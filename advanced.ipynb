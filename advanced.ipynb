{
 "cells": [
  {
   "cell_type": "code",
   "execution_count": 1,
   "metadata": {},
   "outputs": [],
   "source": [
    "from autoprompt import vectordb_autoprompt\n",
    "import pandas as pd\n",
    "import numpy as np"
   ]
  },
  {
   "cell_type": "code",
   "execution_count": 9,
   "metadata": {},
   "outputs": [
    {
     "data": {
      "text/html": [
       "<div>\n",
       "<style scoped>\n",
       "    .dataframe tbody tr th:only-of-type {\n",
       "        vertical-align: middle;\n",
       "    }\n",
       "\n",
       "    .dataframe tbody tr th {\n",
       "        vertical-align: top;\n",
       "    }\n",
       "\n",
       "    .dataframe thead th {\n",
       "        text-align: right;\n",
       "    }\n",
       "</style>\n",
       "<table border=\"1\" class=\"dataframe\">\n",
       "  <thead>\n",
       "    <tr style=\"text-align: right;\">\n",
       "      <th></th>\n",
       "      <th>prompt</th>\n",
       "      <th>response</th>\n",
       "      <th>source</th>\n",
       "      <th>prompt_embedding</th>\n",
       "    </tr>\n",
       "  </thead>\n",
       "  <tbody>\n",
       "    <tr>\n",
       "      <th>446779</th>\n",
       "      <td>Craft a Rap Battle between devoted Karl Marx a...</td>\n",
       "      <td>Verse 1: devoted Karl Marx\\nYo, yo, yo, it's y...</td>\n",
       "      <td>nomic-ai</td>\n",
       "      <td>[-0.023317329585552216, -0.016840294003486633,...</td>\n",
       "    </tr>\n",
       "    <tr>\n",
       "      <th>613760</th>\n",
       "      <td>Imagine a long Song, where Benjamin Franklin s...</td>\n",
       "      <td>Verse 1:\\nOn a summer's day in St. Petersburg\\...</td>\n",
       "      <td>nomic-ai</td>\n",
       "      <td>[-0.009663475677371025, -0.008383098989725113,...</td>\n",
       "    </tr>\n",
       "    <tr>\n",
       "      <th>495921</th>\n",
       "      <td>Craft a Poem in which Frank Sinatra explore Mo...</td>\n",
       "      <td>In Montreal, the city of light,\\nFrank Sinatra...</td>\n",
       "      <td>nomic-ai</td>\n",
       "      <td>[0.006386434659361839, 0.005232055205851793, -...</td>\n",
       "    </tr>\n",
       "    <tr>\n",
       "      <th>413582</th>\n",
       "      <td>Compose a long Song set in Tripoli, where a ba...</td>\n",
       "      <td>Verse 1:\\nIn the heart of Tripoli town\\nA pian...</td>\n",
       "      <td>nomic-ai</td>\n",
       "      <td>[-0.01370303425937891, -0.003598400391638279, ...</td>\n",
       "    </tr>\n",
       "    <tr>\n",
       "      <th>536823</th>\n",
       "      <td>Compose a Poem set in Húsavík, where a embelli...</td>\n",
       "      <td>In Húsavík, where the Northern Lights shine,\\n...</td>\n",
       "      <td>nomic-ai</td>\n",
       "      <td>[-0.010945656336843967, 0.0017800305504351854,...</td>\n",
       "    </tr>\n",
       "    <tr>\n",
       "      <th>...</th>\n",
       "      <td>...</td>\n",
       "      <td>...</td>\n",
       "      <td>...</td>\n",
       "      <td>...</td>\n",
       "    </tr>\n",
       "    <tr>\n",
       "      <th>514190</th>\n",
       "      <td>Weave a Poem where Pyotr Ilyich Tchaikovsky un...</td>\n",
       "      <td>In Jönköping, where the winter winds blow cold...</td>\n",
       "      <td>nomic-ai</td>\n",
       "      <td>[-0.01037668902426958, -0.015261041931807995, ...</td>\n",
       "    </tr>\n",
       "    <tr>\n",
       "      <th>673337</th>\n",
       "      <td>Write me a long Geography about a content chai...</td>\n",
       "      <td>As she sat on her comfortable content chair, t...</td>\n",
       "      <td>nomic-ai</td>\n",
       "      <td>[0.01847122795879841, 0.002604608191177249, 0....</td>\n",
       "    </tr>\n",
       "    <tr>\n",
       "      <th>595637</th>\n",
       "      <td>Imagine a Essay, where Steve Jobs stumble upon...</td>\n",
       "      <td>The dusty streets of Fukuoka seemed to stretch...</td>\n",
       "      <td>nomic-ai</td>\n",
       "      <td>[0.0019001029431819916, -0.0015207658289000392...</td>\n",
       "    </tr>\n",
       "    <tr>\n",
       "      <th>524809</th>\n",
       "      <td>Write me a Poem about a faint horse who meets ...</td>\n",
       "      <td>In Jönköping, where the horizon meets the sky,...</td>\n",
       "      <td>nomic-ai</td>\n",
       "      <td>[-0.014920438639819622, -0.019670290872454643,...</td>\n",
       "    </tr>\n",
       "    <tr>\n",
       "      <th>521314</th>\n",
       "      <td>Weave a Poem where Thomas Hobbes uncovers a bl...</td>\n",
       "      <td>In Húsavík, where the seabirds call,\\nThomas H...</td>\n",
       "      <td>nomic-ai</td>\n",
       "      <td>[0.005069740116596222, -0.007576677482575178, ...</td>\n",
       "    </tr>\n",
       "  </tbody>\n",
       "</table>\n",
       "<p>10000 rows × 4 columns</p>\n",
       "</div>"
      ],
      "text/plain": [
       "                                                   prompt  \\\n",
       "446779  Craft a Rap Battle between devoted Karl Marx a...   \n",
       "613760  Imagine a long Song, where Benjamin Franklin s...   \n",
       "495921  Craft a Poem in which Frank Sinatra explore Mo...   \n",
       "413582  Compose a long Song set in Tripoli, where a ba...   \n",
       "536823  Compose a Poem set in Húsavík, where a embelli...   \n",
       "...                                                   ...   \n",
       "514190  Weave a Poem where Pyotr Ilyich Tchaikovsky un...   \n",
       "673337  Write me a long Geography about a content chai...   \n",
       "595637  Imagine a Essay, where Steve Jobs stumble upon...   \n",
       "524809  Write me a Poem about a faint horse who meets ...   \n",
       "521314  Weave a Poem where Thomas Hobbes uncovers a bl...   \n",
       "\n",
       "                                                 response    source  \\\n",
       "446779  Verse 1: devoted Karl Marx\\nYo, yo, yo, it's y...  nomic-ai   \n",
       "613760  Verse 1:\\nOn a summer's day in St. Petersburg\\...  nomic-ai   \n",
       "495921  In Montreal, the city of light,\\nFrank Sinatra...  nomic-ai   \n",
       "413582  Verse 1:\\nIn the heart of Tripoli town\\nA pian...  nomic-ai   \n",
       "536823  In Húsavík, where the Northern Lights shine,\\n...  nomic-ai   \n",
       "...                                                   ...       ...   \n",
       "514190  In Jönköping, where the winter winds blow cold...  nomic-ai   \n",
       "673337  As she sat on her comfortable content chair, t...  nomic-ai   \n",
       "595637  The dusty streets of Fukuoka seemed to stretch...  nomic-ai   \n",
       "524809  In Jönköping, where the horizon meets the sky,...  nomic-ai   \n",
       "521314  In Húsavík, where the seabirds call,\\nThomas H...  nomic-ai   \n",
       "\n",
       "                                         prompt_embedding  \n",
       "446779  [-0.023317329585552216, -0.016840294003486633,...  \n",
       "613760  [-0.009663475677371025, -0.008383098989725113,...  \n",
       "495921  [0.006386434659361839, 0.005232055205851793, -...  \n",
       "413582  [-0.01370303425937891, -0.003598400391638279, ...  \n",
       "536823  [-0.010945656336843967, 0.0017800305504351854,...  \n",
       "...                                                   ...  \n",
       "514190  [-0.01037668902426958, -0.015261041931807995, ...  \n",
       "673337  [0.01847122795879841, 0.002604608191177249, 0....  \n",
       "595637  [0.0019001029431819916, -0.0015207658289000392...  \n",
       "524809  [-0.014920438639819622, -0.019670290872454643,...  \n",
       "521314  [0.005069740116596222, -0.007576677482575178, ...  \n",
       "\n",
       "[10000 rows x 4 columns]"
      ]
     },
     "execution_count": 9,
     "metadata": {},
     "output_type": "execute_result"
    }
   ],
   "source": [
    "df = pd.read_parquet(\"history/nomic_10000_embed.parquet\")\n",
    "df"
   ]
  },
  {
   "cell_type": "code",
   "execution_count": 4,
   "metadata": {},
   "outputs": [],
   "source": [
    "vectordb = np.array(df[\"prompt_embedding\"].tolist())\n",
    "prompt_history = df[\"prompt\"].tolist()"
   ]
  },
  {
   "cell_type": "code",
   "execution_count": 19,
   "metadata": {},
   "outputs": [],
   "source": [
    "prompt = \"Explain QED through a \"\n",
    "completion = vectordb_autoprompt(prompt, vectordb, prompt_history, top_k_similar=100)"
   ]
  },
  {
   "cell_type": "code",
   "execution_count": 20,
   "metadata": {},
   "outputs": [
    {
     "name": "stdout",
     "output_type": "stream",
     "text": [
      "vignette featuring Marie Curie in Madrid.\n"
     ]
    }
   ],
   "source": [
    "print(completion)"
   ]
  },
  {
   "cell_type": "code",
   "execution_count": null,
   "metadata": {},
   "outputs": [],
   "source": []
  }
 ],
 "metadata": {
  "kernelspec": {
   "display_name": "Python 3",
   "language": "python",
   "name": "python3"
  },
  "language_info": {
   "codemirror_mode": {
    "name": "ipython",
    "version": 3
   },
   "file_extension": ".py",
   "mimetype": "text/x-python",
   "name": "python",
   "nbconvert_exporter": "python",
   "pygments_lexer": "ipython3",
   "version": "3.11.2"
  },
  "orig_nbformat": 4
 },
 "nbformat": 4,
 "nbformat_minor": 2
}
