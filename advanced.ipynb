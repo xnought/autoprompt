{
 "cells": [
  {
   "cell_type": "code",
   "execution_count": 1,
   "metadata": {},
   "outputs": [],
   "source": [
    "from autoprompt import vectordb_autoprompt\n",
    "import pandas as pd\n",
    "import numpy as np"
   ]
  },
  {
   "cell_type": "code",
   "execution_count": 2,
   "metadata": {},
   "outputs": [],
   "source": [
    "df = pd.read_parquet(\"history/nomic_10000_embed.parquet\")"
   ]
  },
  {
   "cell_type": "code",
   "execution_count": 3,
   "metadata": {},
   "outputs": [
    {
     "data": {
      "text/html": [
       "<div>\n",
       "<style scoped>\n",
       "    .dataframe tbody tr th:only-of-type {\n",
       "        vertical-align: middle;\n",
       "    }\n",
       "\n",
       "    .dataframe tbody tr th {\n",
       "        vertical-align: top;\n",
       "    }\n",
       "\n",
       "    .dataframe thead th {\n",
       "        text-align: right;\n",
       "    }\n",
       "</style>\n",
       "<table border=\"1\" class=\"dataframe\">\n",
       "  <thead>\n",
       "    <tr style=\"text-align: right;\">\n",
       "      <th></th>\n",
       "      <th>prompt</th>\n",
       "      <th>response</th>\n",
       "      <th>source</th>\n",
       "      <th>prompt_embedding</th>\n",
       "    </tr>\n",
       "  </thead>\n",
       "  <tbody>\n",
       "    <tr>\n",
       "      <th>647053</th>\n",
       "      <td>Compose a Song set in Jyväskylä, where a far t...</td>\n",
       "      <td>Verse 1:\\nIn the heart of Finland, there's a t...</td>\n",
       "      <td>nomic-ai</td>\n",
       "      <td>[-0.014189252629876137, -0.02260380983352661, ...</td>\n",
       "    </tr>\n",
       "    <tr>\n",
       "      <th>483040</th>\n",
       "      <td>Weave a Architecture saga where Johannes Verme...</td>\n",
       "      <td>Johannes Vermeer had always been fascinated by...</td>\n",
       "      <td>nomic-ai</td>\n",
       "      <td>[0.0018637313041836023, -0.024349572136998177,...</td>\n",
       "    </tr>\n",
       "    <tr>\n",
       "      <th>540914</th>\n",
       "      <td>Create a long Empowerment vignette in which Jo...</td>\n",
       "      <td>It was a hot summer day in Islamabad and John ...</td>\n",
       "      <td>nomic-ai</td>\n",
       "      <td>[-0.002122657373547554, -0.00486931623890996, ...</td>\n",
       "    </tr>\n",
       "    <tr>\n",
       "      <th>617414</th>\n",
       "      <td>Create a Song in which Benjamin Franklin encou...</td>\n",
       "      <td>Verse 1:\\nWalking through Montreal, Benjamin F...</td>\n",
       "      <td>nomic-ai</td>\n",
       "      <td>[-0.006637014914304018, -0.0021269002463668585...</td>\n",
       "    </tr>\n",
       "    <tr>\n",
       "      <th>496322</th>\n",
       "      <td>Write a Poem that follows the adventures of St...</td>\n",
       "      <td>In St. Petersburg town, Steve Jobs did roam,\\n...</td>\n",
       "      <td>nomic-ai</td>\n",
       "      <td>[-0.004232936538755894, -0.0067987688817083836...</td>\n",
       "    </tr>\n",
       "    <tr>\n",
       "      <th>601550</th>\n",
       "      <td>Imagine a long Essay about Elon Musk who disco...</td>\n",
       "      <td>Elon Musk, the visionary entrepreneur and CEO ...</td>\n",
       "      <td>nomic-ai</td>\n",
       "      <td>[-0.00954690482467413, -0.014835956506431103, ...</td>\n",
       "    </tr>\n",
       "    <tr>\n",
       "      <th>524787</th>\n",
       "      <td>Write me a long Poem about a cooked hyacinth w...</td>\n",
       "      <td>In Hanoi, where the aromas of spices and herbs...</td>\n",
       "      <td>nomic-ai</td>\n",
       "      <td>[-0.014591719955205917, -0.011090775951743126,...</td>\n",
       "    </tr>\n",
       "    <tr>\n",
       "      <th>488775</th>\n",
       "      <td>Craft a Disability narrative in which Laozi ex...</td>\n",
       "      <td>As Laozi navigated through the busy streets of...</td>\n",
       "      <td>nomic-ai</td>\n",
       "      <td>[0.016757838428020477, 0.005176672246307135, 0...</td>\n",
       "    </tr>\n",
       "    <tr>\n",
       "      <th>405099</th>\n",
       "      <td>Create a long Rap in which Ella Fitzgerald enc...</td>\n",
       "      <td>Verse 1:\\nElla Fitzgerald, out in Szczecin \\nW...</td>\n",
       "      <td>nomic-ai</td>\n",
       "      <td>[-0.004252086393535137, -0.015636034309864044,...</td>\n",
       "    </tr>\n",
       "    <tr>\n",
       "      <th>499016</th>\n",
       "      <td>Weave a Poem where Charlie Chaplin uncovers a ...</td>\n",
       "      <td>In the quiet town of Jyväskylä\\nWhere the sun ...</td>\n",
       "      <td>nomic-ai</td>\n",
       "      <td>[0.0015762842958793044, -0.0253582913428545, 0...</td>\n",
       "    </tr>\n",
       "  </tbody>\n",
       "</table>\n",
       "</div>"
      ],
      "text/plain": [
       "                                                   prompt  \\\n",
       "647053  Compose a Song set in Jyväskylä, where a far t...   \n",
       "483040  Weave a Architecture saga where Johannes Verme...   \n",
       "540914  Create a long Empowerment vignette in which Jo...   \n",
       "617414  Create a Song in which Benjamin Franklin encou...   \n",
       "496322  Write a Poem that follows the adventures of St...   \n",
       "601550  Imagine a long Essay about Elon Musk who disco...   \n",
       "524787  Write me a long Poem about a cooked hyacinth w...   \n",
       "488775  Craft a Disability narrative in which Laozi ex...   \n",
       "405099  Create a long Rap in which Ella Fitzgerald enc...   \n",
       "499016  Weave a Poem where Charlie Chaplin uncovers a ...   \n",
       "\n",
       "                                                 response    source  \\\n",
       "647053  Verse 1:\\nIn the heart of Finland, there's a t...  nomic-ai   \n",
       "483040  Johannes Vermeer had always been fascinated by...  nomic-ai   \n",
       "540914  It was a hot summer day in Islamabad and John ...  nomic-ai   \n",
       "617414  Verse 1:\\nWalking through Montreal, Benjamin F...  nomic-ai   \n",
       "496322  In St. Petersburg town, Steve Jobs did roam,\\n...  nomic-ai   \n",
       "601550  Elon Musk, the visionary entrepreneur and CEO ...  nomic-ai   \n",
       "524787  In Hanoi, where the aromas of spices and herbs...  nomic-ai   \n",
       "488775  As Laozi navigated through the busy streets of...  nomic-ai   \n",
       "405099  Verse 1:\\nElla Fitzgerald, out in Szczecin \\nW...  nomic-ai   \n",
       "499016  In the quiet town of Jyväskylä\\nWhere the sun ...  nomic-ai   \n",
       "\n",
       "                                         prompt_embedding  \n",
       "647053  [-0.014189252629876137, -0.02260380983352661, ...  \n",
       "483040  [0.0018637313041836023, -0.024349572136998177,...  \n",
       "540914  [-0.002122657373547554, -0.00486931623890996, ...  \n",
       "617414  [-0.006637014914304018, -0.0021269002463668585...  \n",
       "496322  [-0.004232936538755894, -0.0067987688817083836...  \n",
       "601550  [-0.00954690482467413, -0.014835956506431103, ...  \n",
       "524787  [-0.014591719955205917, -0.011090775951743126,...  \n",
       "488775  [0.016757838428020477, 0.005176672246307135, 0...  \n",
       "405099  [-0.004252086393535137, -0.015636034309864044,...  \n",
       "499016  [0.0015762842958793044, -0.0253582913428545, 0...  "
      ]
     },
     "execution_count": 3,
     "metadata": {},
     "output_type": "execute_result"
    }
   ],
   "source": [
    "df.sample(10)"
   ]
  },
  {
   "cell_type": "code",
   "execution_count": 4,
   "metadata": {},
   "outputs": [],
   "source": [
    "vectordb = np.array(df[\"prompt_embedding\"].tolist())\n",
    "prompt_history = df[\"prompt\"].tolist()"
   ]
  },
  {
   "cell_type": "code",
   "execution_count": 5,
   "metadata": {},
   "outputs": [],
   "source": [
    "prompt = \"Explain FFT\"\n",
    "completion = vectordb_autoprompt(prompt, vectordb, prompt_history)"
   ]
  },
  {
   "cell_type": "code",
   "execution_count": 6,
   "metadata": {},
   "outputs": [
    {
     "name": "stdout",
     "output_type": "stream",
     "text": [
      "in the style of Carl Sagan.\n"
     ]
    }
   ],
   "source": [
    "print(completion)"
   ]
  }
 ],
 "metadata": {
  "kernelspec": {
   "display_name": "Python 3",
   "language": "python",
   "name": "python3"
  },
  "language_info": {
   "codemirror_mode": {
    "name": "ipython",
    "version": 3
   },
   "file_extension": ".py",
   "mimetype": "text/x-python",
   "name": "python",
   "nbconvert_exporter": "python",
   "pygments_lexer": "ipython3",
   "version": "3.11.2"
  },
  "orig_nbformat": 4
 },
 "nbformat": 4,
 "nbformat_minor": 2
}
